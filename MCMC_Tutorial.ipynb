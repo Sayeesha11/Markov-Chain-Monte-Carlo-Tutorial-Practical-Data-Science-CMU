{
 "cells": [
  {
   "cell_type": "markdown",
   "metadata": {},
   "source": [
    "# Markov Chain Monte Carlo - Tutorial\n",
    "\n",
    "### By Sayeesha Sridhar"
   ]
  },
  {
   "cell_type": "markdown",
   "metadata": {},
   "source": [
    "In this tutorial, we are first going to understand what is probability distribution and the Markov Chain Monte Carlo method for likelihood estimation. We will then go ahead and apply this method on a public dataset and observe the results.  \n",
    "\n",
    "## Introduction\n",
    " Data Science is quite literally the study of data. It involves processes, methods, algorithms and techniques for capturing, processing, analyzing and deriving inferences from data. Statistics is the core of data science that provides a basis for preliminary and also in-depth analysis,  hypothesis testing and understanding data using descriptive statistics. Statistics is a key tool used to provide insights into data's structure.\n",
    "\n",
    "__Probability distribution__  is defined as the function that maps each possible occurance of an event with its associated probability of occurance. We can also say that a probability density function (PDF) is an equation or expression that defines the spread of a continuous random variable.\n",
    "Probability of occurance is in the range of 0 to 1 where 0 indicates an event has no chance of occurance and 1 means that the event will definitely occur. \n",
    "\n",
    "A sample space is the underlynig set of data points of all the possible values of the value under observation.\n"
   ]
  },
  {
   "cell_type": "markdown",
   "metadata": {},
   "source": [
    "__Markov Chain Monte Carlo (MCMC) is a sampling technique/algorithm__ that is used to find the most likely estimate of a variable. \n",
    "The idea behind MCMC is that it takes large number of data points known as samples to calculate the parameters alpha and beta (in the equation below) to create an approximation of the probability. The higher the number of samples, the more accurate is the distribution generated\n",
    "\n",
    "MCMC has 2 parts, the Markov Chain, and the Monte Carlo\n",
    "\n",
    "__Markov Chain__ is a technique used to define the transition between states using probability. It follows the principle that probability of achieving the next state is a function of the previous state. Given a current state A, there are only small number of next states that a system can transition into. \n",
    "Let us take an example of the weather. Given that today is a bright and sunny day with an average temperature of 75 degrees Farenheit, it is easy to predict tomorrows weather with good confidence. It is impossible that there is going to be a snow storm tomorrow, given today's weather and whereas, it is very likely that tomorrow's weather will be similar to today's with a maximum of 5 degrees fluctuation. Markov Chain works on the principle that we do not need to take into account the entire history of the weather to simply predict tomorrow's weather, infact it would be very inaccurate to calculate the average of the whole year's temperate to predict tommorow's temperature. Markov's Chain says that we simple need the previous value of a variable to predict the next value, with some good confidence. \n",
    "\n",
    "__Monte Carlo__ is a class of computational algorithms that use infinite number of random sampling to obtain a numerical value. The concept is to use ramdomness to solve a problem that is deterministic in nature.\n",
    "The most famous representation of the Monte Carlo method is in estimating the area of an irregular object. \n",
    "Use this link to understand more about Monte Carlo http://mathonweb.com/entrtain/monte/t_monte.htm\n",
    "\n",
    "\n",
    "Markov Chain Monte Carlo methods are used to approximate the distribution of a parameter by using random sampling in a probabilistic space.\n",
    "\n",
    "\n",
    "I understand all this may sound too vague to someone reading about MCMC for the first time, so let me go ahead and demonstrate how to apply MCMC to predict the most likely value of the stock price of Tesla. \n",
    "\n",
    "Note: The inspiration/reference for this tutorial has been derived from the following pages:\n",
    "- https://docs.pymc.io/notebooks/getting_started.html\n",
    "- https://en.wikipedia.org/wiki/Markov_chain_Monte_Carlo\n",
    "- https://jeremykun.com/2015/04/06/markov-chain-monte-carlo-without-all-the-bullshit/\n",
    "- https://en.wikipedia.org/wiki/Metropolis%E2%80%93Hastings_algorithm\n",
    "- https://towardsdatascience.com/a-zero-math-introduction-to-markov-chain-monte-carlo-methods-dcba889e0c50\n",
    "- https://towardsdatascience.com/markov-chain-monte-carlo-in-python-44f7e609be98\n",
    "- https://github.com/WillKoehrsen/ai-projects/blob/master/markov_chain_monte_carlo/markov_chain_monte_carlo.ipynb"
   ]
  },
  {
   "cell_type": "markdown",
   "metadata": {},
   "source": [
    "The equation below highlights the probability of a stock being bought as a function of price. This is the basic sigmoid function that is also used in logistic regression"
   ]
  },
  {
   "cell_type": "markdown",
   "metadata": {},
   "source": [
    "\\begin{equation*}\n",
    "P (stock bought|price)   = \\frac{1}{1+ e^{\\beta p+ \\alpha}}\n",
    "\\end{equation*}"
   ]
  },
  {
   "cell_type": "markdown",
   "metadata": {},
   "source": [
    "### Importing the required libraries"
   ]
  },
  {
   "cell_type": "code",
   "execution_count": 1,
   "metadata": {},
   "outputs": [
    {
     "name": "stderr",
     "output_type": "stream",
     "text": [
      "WARNING (theano.tensor.blas): Using NumPy C-API based implementation for BLAS functions.\n"
     ]
    }
   ],
   "source": [
    "import pandas as pd\n",
    "import numpy as np\n",
    "import scipy\n",
    "from scipy import stats\n",
    "import pymc3 as pm  # the library that contains the MCMC implementation \n",
    "import scipy \n",
    "%matplotlib inline\n",
    "import matplotlib\n",
    "import matplotlib.pyplot as plt\n"
   ]
  },
  {
   "cell_type": "markdown",
   "metadata": {},
   "source": [
    "Let us now import the data from the csv file named Tesla. Further:\n",
    "- Filter out only the 'Low' column which indicates the lowest price paid for a stock on the given day, and the Date column. \n",
    "- We are going to be predicting the lowest price of the stock on the given day as a function of price. \n",
    "- For this particular tutorial, let us ignore the fact that the stock prediction is a time series prediction. In this tutorial for computational simplicity, we are going to predict the probability of buying a stock as a function of stock prices using the stock price of 350 days to train our model\n"
   ]
  },
  {
   "cell_type": "code",
   "execution_count": 2,
   "metadata": {},
   "outputs": [
    {
     "data": {
      "text/html": [
       "<div>\n",
       "<style scoped>\n",
       "    .dataframe tbody tr th:only-of-type {\n",
       "        vertical-align: middle;\n",
       "    }\n",
       "\n",
       "    .dataframe tbody tr th {\n",
       "        vertical-align: top;\n",
       "    }\n",
       "\n",
       "    .dataframe thead th {\n",
       "        text-align: right;\n",
       "    }\n",
       "</style>\n",
       "<table border=\"1\" class=\"dataframe\">\n",
       "  <thead>\n",
       "    <tr style=\"text-align: right;\">\n",
       "      <th></th>\n",
       "      <th>Date</th>\n",
       "      <th>Lowest stock bought at ($)</th>\n",
       "    </tr>\n",
       "  </thead>\n",
       "  <tbody>\n",
       "    <tr>\n",
       "      <td>1342</td>\n",
       "      <td>10/27/2015</td>\n",
       "      <td>207.509995</td>\n",
       "    </tr>\n",
       "    <tr>\n",
       "      <td>1343</td>\n",
       "      <td>10/28/2015</td>\n",
       "      <td>208.300003</td>\n",
       "    </tr>\n",
       "    <tr>\n",
       "      <td>1344</td>\n",
       "      <td>10/29/2015</td>\n",
       "      <td>210.639999</td>\n",
       "    </tr>\n",
       "    <tr>\n",
       "      <td>1345</td>\n",
       "      <td>10/30/2015</td>\n",
       "      <td>203.889999</td>\n",
       "    </tr>\n",
       "    <tr>\n",
       "      <td>1346</td>\n",
       "      <td>11/2/2015</td>\n",
       "      <td>207.220001</td>\n",
       "    </tr>\n",
       "    <tr>\n",
       "      <td>...</td>\n",
       "      <td>...</td>\n",
       "      <td>...</td>\n",
       "    </tr>\n",
       "    <tr>\n",
       "      <td>1687</td>\n",
       "      <td>3/13/2017</td>\n",
       "      <td>242.779999</td>\n",
       "    </tr>\n",
       "    <tr>\n",
       "      <td>1688</td>\n",
       "      <td>3/14/2017</td>\n",
       "      <td>246.020004</td>\n",
       "    </tr>\n",
       "    <tr>\n",
       "      <td>1689</td>\n",
       "      <td>3/15/2017</td>\n",
       "      <td>254.270004</td>\n",
       "    </tr>\n",
       "    <tr>\n",
       "      <td>1690</td>\n",
       "      <td>3/16/2017</td>\n",
       "      <td>259.059998</td>\n",
       "    </tr>\n",
       "    <tr>\n",
       "      <td>1691</td>\n",
       "      <td>3/17/2017</td>\n",
       "      <td>261.200012</td>\n",
       "    </tr>\n",
       "  </tbody>\n",
       "</table>\n",
       "<p>350 rows × 2 columns</p>\n",
       "</div>"
      ],
      "text/plain": [
       "            Date  Lowest stock bought at ($)\n",
       "1342  10/27/2015                  207.509995\n",
       "1343  10/28/2015                  208.300003\n",
       "1344  10/29/2015                  210.639999\n",
       "1345  10/30/2015                  203.889999\n",
       "1346   11/2/2015                  207.220001\n",
       "...          ...                         ...\n",
       "1687   3/13/2017                  242.779999\n",
       "1688   3/14/2017                  246.020004\n",
       "1689   3/15/2017                  254.270004\n",
       "1690   3/16/2017                  259.059998\n",
       "1691   3/17/2017                  261.200012\n",
       "\n",
       "[350 rows x 2 columns]"
      ]
     },
     "execution_count": 2,
     "metadata": {},
     "output_type": "execute_result"
    }
   ],
   "source": [
    "data_all=pd.read_csv('Tesla.csv')\n",
    "#get only the last 350 days values for simplicity \n",
    "data=data_all.tail(350)\n",
    "data=data[['Date','Low']]\n",
    "data=data.rename(columns={'Date':'Date','Low':'Lowest stock bought at ($)'})\n",
    "data"
   ]
  },
  {
   "cell_type": "code",
   "execution_count": 3,
   "metadata": {},
   "outputs": [
    {
     "data": {
      "text/html": [
       "<div>\n",
       "<style scoped>\n",
       "    .dataframe tbody tr th:only-of-type {\n",
       "        vertical-align: middle;\n",
       "    }\n",
       "\n",
       "    .dataframe tbody tr th {\n",
       "        vertical-align: top;\n",
       "    }\n",
       "\n",
       "    .dataframe thead th {\n",
       "        text-align: right;\n",
       "    }\n",
       "</style>\n",
       "<table border=\"1\" class=\"dataframe\">\n",
       "  <thead>\n",
       "    <tr style=\"text-align: right;\">\n",
       "      <th></th>\n",
       "      <th>Lowest stock bought at ($)</th>\n",
       "    </tr>\n",
       "  </thead>\n",
       "  <tbody>\n",
       "    <tr>\n",
       "      <td>count</td>\n",
       "      <td>350.000000</td>\n",
       "    </tr>\n",
       "    <tr>\n",
       "      <td>mean</td>\n",
       "      <td>214.359829</td>\n",
       "    </tr>\n",
       "    <tr>\n",
       "      <td>std</td>\n",
       "      <td>24.406664</td>\n",
       "    </tr>\n",
       "    <tr>\n",
       "      <td>min</td>\n",
       "      <td>141.050003</td>\n",
       "    </tr>\n",
       "    <tr>\n",
       "      <td>25%</td>\n",
       "      <td>198.482499</td>\n",
       "    </tr>\n",
       "    <tr>\n",
       "      <td>50%</td>\n",
       "      <td>214.934998</td>\n",
       "    </tr>\n",
       "    <tr>\n",
       "      <td>75%</td>\n",
       "      <td>228.044999</td>\n",
       "    </tr>\n",
       "    <tr>\n",
       "      <td>max</td>\n",
       "      <td>278.609985</td>\n",
       "    </tr>\n",
       "  </tbody>\n",
       "</table>\n",
       "</div>"
      ],
      "text/plain": [
       "       Lowest stock bought at ($)\n",
       "count                  350.000000\n",
       "mean                   214.359829\n",
       "std                     24.406664\n",
       "min                    141.050003\n",
       "25%                    198.482499\n",
       "50%                    214.934998\n",
       "75%                    228.044999\n",
       "max                    278.609985"
      ]
     },
     "execution_count": 3,
     "metadata": {},
     "output_type": "execute_result"
    }
   ],
   "source": [
    "data.describe()"
   ]
  },
  {
   "cell_type": "markdown",
   "metadata": {},
   "source": [
    "The dataframe now has 2 columns. The minimum value of the price is 141.05 and the maximum value is 278.6"
   ]
  },
  {
   "cell_type": "markdown",
   "metadata": {},
   "source": [
    "As we already know by now, data preocessing is almost always as significant as data analysis. \n",
    "So we first format this dataframe into something more suitable for the MCMC model.\n",
    "\n",
    "The steps we follow are as follows:\n",
    "- For each day in the data, create n rows where n is the value max-min (288-141 = 137. For simplicity we will take n=140)\n",
    "- Create a list called offset. This will contain with values between 140 to 280 for each day. Thus each day will have 140 rows with the offset list containing integer values betweem 140 to 280 for each day. Thus this list will have (280-140)*350= 49,000   values \n",
    "- Create a list named indicator which will hold 0 for value of price_offset below the stock price of the given day and 1 for values of price_offset equal to or higher than the stock price for the given day. \n",
    "\n",
    "We will then zip these 3 lists to create a dataframe named df. \n",
    "The size of df will be: 350 days * 140 price offset = 49,000 enteries"
   ]
  },
  {
   "cell_type": "code",
   "execution_count": 4,
   "metadata": {},
   "outputs": [],
   "source": [
    "offset=[]\n",
    "dates=[]\n",
    "indicator=[]\n",
    "for x in data.iterrows():\n",
    "    for y in range(140,280):\n",
    "        i=y\n",
    "        offset.append(y)\n",
    "        dates.append(x[1][0])\n",
    "        comp=int(x[1][1])\n",
    "        if(i<comp):\n",
    "            indicator.append(0)\n",
    "        else:\n",
    "            indicator.append(1)\n",
    "df = pd.DataFrame(list(zip(dates, indicator,offset)), columns =['Date', 'indicator','price_offset'])"
   ]
  },
  {
   "cell_type": "code",
   "execution_count": 5,
   "metadata": {},
   "outputs": [
    {
     "data": {
      "text/html": [
       "<div>\n",
       "<style scoped>\n",
       "    .dataframe tbody tr th:only-of-type {\n",
       "        vertical-align: middle;\n",
       "    }\n",
       "\n",
       "    .dataframe tbody tr th {\n",
       "        vertical-align: top;\n",
       "    }\n",
       "\n",
       "    .dataframe thead th {\n",
       "        text-align: right;\n",
       "    }\n",
       "</style>\n",
       "<table border=\"1\" class=\"dataframe\">\n",
       "  <thead>\n",
       "    <tr style=\"text-align: right;\">\n",
       "      <th></th>\n",
       "      <th>Date</th>\n",
       "      <th>indicator</th>\n",
       "      <th>price_offset</th>\n",
       "    </tr>\n",
       "  </thead>\n",
       "  <tbody>\n",
       "    <tr>\n",
       "      <td>0</td>\n",
       "      <td>10/27/2015</td>\n",
       "      <td>0</td>\n",
       "      <td>140</td>\n",
       "    </tr>\n",
       "    <tr>\n",
       "      <td>1</td>\n",
       "      <td>10/27/2015</td>\n",
       "      <td>0</td>\n",
       "      <td>141</td>\n",
       "    </tr>\n",
       "    <tr>\n",
       "      <td>2</td>\n",
       "      <td>10/27/2015</td>\n",
       "      <td>0</td>\n",
       "      <td>142</td>\n",
       "    </tr>\n",
       "    <tr>\n",
       "      <td>3</td>\n",
       "      <td>10/27/2015</td>\n",
       "      <td>0</td>\n",
       "      <td>143</td>\n",
       "    </tr>\n",
       "    <tr>\n",
       "      <td>4</td>\n",
       "      <td>10/27/2015</td>\n",
       "      <td>0</td>\n",
       "      <td>144</td>\n",
       "    </tr>\n",
       "    <tr>\n",
       "      <td>...</td>\n",
       "      <td>...</td>\n",
       "      <td>...</td>\n",
       "      <td>...</td>\n",
       "    </tr>\n",
       "    <tr>\n",
       "      <td>48995</td>\n",
       "      <td>3/17/2017</td>\n",
       "      <td>1</td>\n",
       "      <td>275</td>\n",
       "    </tr>\n",
       "    <tr>\n",
       "      <td>48996</td>\n",
       "      <td>3/17/2017</td>\n",
       "      <td>1</td>\n",
       "      <td>276</td>\n",
       "    </tr>\n",
       "    <tr>\n",
       "      <td>48997</td>\n",
       "      <td>3/17/2017</td>\n",
       "      <td>1</td>\n",
       "      <td>277</td>\n",
       "    </tr>\n",
       "    <tr>\n",
       "      <td>48998</td>\n",
       "      <td>3/17/2017</td>\n",
       "      <td>1</td>\n",
       "      <td>278</td>\n",
       "    </tr>\n",
       "    <tr>\n",
       "      <td>48999</td>\n",
       "      <td>3/17/2017</td>\n",
       "      <td>1</td>\n",
       "      <td>279</td>\n",
       "    </tr>\n",
       "  </tbody>\n",
       "</table>\n",
       "<p>49000 rows × 3 columns</p>\n",
       "</div>"
      ],
      "text/plain": [
       "             Date  indicator  price_offset\n",
       "0      10/27/2015          0           140\n",
       "1      10/27/2015          0           141\n",
       "2      10/27/2015          0           142\n",
       "3      10/27/2015          0           143\n",
       "4      10/27/2015          0           144\n",
       "...           ...        ...           ...\n",
       "48995   3/17/2017          1           275\n",
       "48996   3/17/2017          1           276\n",
       "48997   3/17/2017          1           277\n",
       "48998   3/17/2017          1           278\n",
       "48999   3/17/2017          1           279\n",
       "\n",
       "[49000 rows x 3 columns]"
      ]
     },
     "execution_count": 5,
     "metadata": {},
     "output_type": "execute_result"
    }
   ],
   "source": [
    "df"
   ]
  },
  {
   "cell_type": "markdown",
   "metadata": {},
   "source": [
    "Now, let us plot the stock bought as a function of price using a scatterplot\n",
    "\n",
    "The y axis has values Bought and Not bought and the x axis has the price.\n",
    "In the code below, s indicates the thickness of a point and alpha controls the opaqueness of the points "
   ]
  },
  {
   "cell_type": "code",
   "execution_count": 6,
   "metadata": {},
   "outputs": [
    {
     "data": {
      "image/png": "[encoded data removed]",
      "text/plain": [
       "<Figure size 1800x360 with 1 Axes>"
      ]
     },
     "metadata": {
      "needs_background": "light"
     },
     "output_type": "display_data"
    }
   ],
   "source": [
    "plt.figure(figsize=(25, 5))\n",
    "plt.title('Tesla stock bought at price', size = 22)\n",
    "plt.scatter(df['price_offset'], df['indicator'], s= 200, alpha=0.002, facecolor = 'b', edgecolors='b')\n",
    "plt.yticks([0, 1], ['Not bought', 'Bought'], size=20)\n",
    "plt.xlabel('Price', size=20); "
   ]
  },
  {
   "cell_type": "markdown",
   "metadata": {},
   "source": [
    "We can visually scan this graph to tell that on an average, the lowest price of Tesla stock on the given days is about 210$. (We will confirm this later with our MCMC model)\n",
    "Explaining the above scatter plot further:\n",
    "\n",
    "- The more darker the blue for Not bought in the price range, the more number of days where the stock was not bought below that price. \n",
    "- And similarly for Bought, the darker blue indicates more days where the stock was bought at a price lower than the corresponding price on the x axis. \n",
    "- This graph is cumulative. A darker colour indicates that stock was bought at a price equal to or lower that the corresponding x axis and thats why we can see that all the stocks are bought below 280$\n",
    "\n",
    "Now let us go ahead and actually plot a MCMC probability curve on this scatter plot that will give us the probability of buying a stock for each price in the given range.\n"
   ]
  },
  {
   "cell_type": "markdown",
   "metadata": {
    "scrolled": false
   },
   "source": [
    "Logistic regression's sigmoid function is used to model transitions from a 0 to 1. We will also be using this to represent the transition from 'Not bought' to 'Bought' of the stock price. In our model, not bought will be a 0 and bought will be a 1\n",
    "\n",
    "The sigmoid function can be expressed as:\n",
    "\\begin{equation*}\n",
    "P (stock bought|price)   = \\frac{1}{1+ e^{\\beta p + \\alpha}}\n",
    "\\end{equation*}\n",
    "\n",
    "\n"
   ]
  },
  {
   "cell_type": "markdown",
   "metadata": {},
   "source": [
    "Here, 𝛽 determines the slope of the sigmoid curve and 𝛼 determines the offset from 0.\n",
    "\n",
    "The variables 𝛼 and 𝛽 is unknown an we will use MCMC to caluclate them. \n",
    "The MCMC algorithm used here is Metropolis Hastings. "
   ]
  },
  {
   "cell_type": "markdown",
   "metadata": {},
   "source": [
    "The sigmoid function below takes in the value of alpha, beta and the price and computes the equation above and returns the probability"
   ]
  },
  {
   "cell_type": "code",
   "execution_count": 7,
   "metadata": {},
   "outputs": [],
   "source": [
    "# This function named sigmoid will take in values p,alpha and beta and return the result of the above equation\n",
    "# Here p will be a list of values\n",
    "def sigmoid(p, alpha,beta):\n",
    "    prob=1.0 / (1.0 + np.exp(beta*p+alpha))\n",
    "    return prob"
   ]
  },
  {
   "cell_type": "markdown",
   "metadata": {},
   "source": [
    "Let us choose the number of samples for MCMC as 2000. This means that our model will draw 2000 samples for alpha and beta"
   ]
  },
  {
   "cell_type": "code",
   "execution_count": 8,
   "metadata": {},
   "outputs": [],
   "source": [
    "Number_Samples = 2000"
   ]
  },
  {
   "cell_type": "markdown",
   "metadata": {},
   "source": [
    "Take the price_offset column of the dataframe and load it into a numpy array called price"
   ]
  },
  {
   "cell_type": "code",
   "execution_count": 9,
   "metadata": {},
   "outputs": [],
   "source": [
    "price = np.array(df.loc[:, 'price_offset'])"
   ]
  },
  {
   "cell_type": "markdown",
   "metadata": {},
   "source": [
    "Take the indicator column of the dataframe and load it into a numpy array called indicators"
   ]
  },
  {
   "cell_type": "code",
   "execution_count": 10,
   "metadata": {},
   "outputs": [],
   "source": [
    "indicators = np.array(df.loc[:, 'indicator'])"
   ]
  },
  {
   "cell_type": "markdown",
   "metadata": {},
   "source": [
    "In this context, alpha and beta are assumed to be normally distributed with a mean of $\\mu$ and a variance of $\\tau$. Our model will sample values of $\\mu$ and $\\tau$ for $\\alpha$ and $\\beta$ to maximize the parameters of the sigmoid function\n",
    "\n",
    "Now we model the data using Metropolis Hastings, a particular MCMC implementation\n",
    "\n",
    "We will use the PyMC3 library in python for MCMC"
   ]
  },
  {
   "cell_type": "markdown",
   "metadata": {},
   "source": [
    "Let us first understand what the function below does. It follows the following steps:\n",
    " - First define alpha and beta as a normally distributed variable\n",
    " - Call the sigmoid function repeatedly on the values of alpha and beta, and store the returned probability. This is done using the pm.Deterministic function that stores values of changing variables. The values of the probability returned by the sigmoid function are stored in p \n",
    " - Get the bernoillo distribution of the price\n",
    " - Define the Metropolis Hastings method \n",
    " - Call the pm.sample method that does the main task of drawing random samples of alpha and beta using Metropolis Hastings. The varible price_trace will store all the values of alpha and beta"
   ]
  },
  {
   "cell_type": "code",
   "execution_count": 11,
   "metadata": {},
   "outputs": [
    {
     "name": "stderr",
     "output_type": "stream",
     "text": [
      "Multiprocess sampling (4 chains in 4 jobs)\n",
      "CompoundStep\n",
      ">Metropolis: [beta]\n",
      ">Metropolis: [alpha]\n",
      "Sampling 4 chains: 100%|██████████| 10000/10000 [01:12<00:00, 138.40draws/s]\n",
      "The gelman-rubin statistic is larger than 1.2 for some parameters.\n",
      "The estimated number of effective samples is smaller than 200 for some parameters.\n"
     ]
    }
   ],
   "source": [
    "with pm.Model() as model:\n",
    "    #define alpha and beta as normally distributed variables\n",
    "    alpha = pm.Normal('alpha')\n",
    "    beta = pm.Normal('beta')\n",
    "    \n",
    "    # Create the probability from the sigmoid function\n",
    "    # the pm.Deterministic is used to keep track of a variable undergoing transformation \n",
    "    p = pm.Deterministic('p', sigmoid(price,alpha,beta))\n",
    "    \n",
    "    # observed is a bernoilli distribution of the observed price\n",
    "    # pm is the imported Pymc3 package\n",
    "    observed = pm.Bernoulli('obs', p, observed=indicators)\n",
    "    \n",
    "    # defining the Metropolis Hastings Sampling algorithm as the step method\n",
    "    step = pm.Metropolis()\n",
    "    \n",
    "    # The pm.sample method draws random samples 2000 times using Metropolis Hastings\n",
    "    #The price_trace will contain all the 2000 values of alpha and beta\n",
    "    price_trace = pm.sample(Number_Samples, step=step);\n"
   ]
  },
  {
   "cell_type": "markdown",
   "metadata": {},
   "source": [
    "Great! Now we have the values of alpha and beta!\n",
    "\n",
    "But we now have 2000 values of alpha and beta. Let us now analyze the values of alpha and beta and observe the distribution"
   ]
  },
  {
   "cell_type": "code",
   "execution_count": 12,
   "metadata": {},
   "outputs": [],
   "source": [
    "alpha_samples = price_trace[\"alpha\"]\n",
    "beta_samples = price_trace[\"beta\"]"
   ]
  },
  {
   "cell_type": "markdown",
   "metadata": {},
   "source": [
    "Now lets see what are the values of alpha we have gotten from the MCMC model. We take the last 200 values of alpha and beta as they are the most accurate. MCMC starts modeling the values of alpha and beta from 0 to reach their most accurate value. Higher number of samples will give us a more accurate value of alpha and beta, but for this tutorial, for computational simplicity, we have kept the number of samples to 2000."
   ]
  },
  {
   "cell_type": "code",
   "execution_count": 13,
   "metadata": {},
   "outputs": [
    {
     "name": "stdout",
     "output_type": "stream",
     "text": [
      "The mean value of alpha is: 8.102635221578335\n",
      "The mean value of alpha is: -0.037938410325786986\n"
     ]
    }
   ],
   "source": [
    "last_200_alpha_samples = alpha_samples[-200]\n",
    "last_200_beta_samples = beta_samples[-200]\n",
    "\n",
    "print(\"The mean value of alpha is: \" + str(last_200_alpha_samples.mean()))\n",
    "print(\"The mean value of alpha is: \" + str(last_200_beta_samples.mean()))\n"
   ]
  },
  {
   "cell_type": "markdown",
   "metadata": {},
   "source": [
    "On substituting the value of alpha and beta, the equation we get that gives us the probability of purchasing a stock at a given price is:\n",
    "\n",
    "\\begin{equation*}\n",
    "P (stock bought|price)   = \\frac{1}{1+ e^{-0.055 p + 11.7}}\n",
    "\\end{equation*}\n"
   ]
  },
  {
   "cell_type": "markdown",
   "metadata": {},
   "source": [
    "Below we plot the distribution of alpha and beta using a histogram with the number of bins set to 20. We can see that MCMC initially started with alpha and beta as 0 but then the most accurate value of alpha is about 11.7 and the most accurate value of beta is -0.055"
   ]
  },
  {
   "cell_type": "code",
   "execution_count": 14,
   "metadata": {},
   "outputs": [
    {
     "data": {
      "text/plain": [
       "Text(0, 0.5, 'Probability Density')"
      ]
     },
     "execution_count": 14,
     "metadata": {},
     "output_type": "execute_result"
    },
    {
     "data": {
      "image/png": "[encoded data removed]",
      "text/plain": [
       "<Figure size 1440x360 with 1 Axes>"
      ]
     },
     "metadata": {
      "needs_background": "light"
     },
     "output_type": "display_data"
    }
   ],
   "source": [
    "plt.figure(figsize=(20, 5))\n",
    "plt.title(r\"Distribution of $\\alpha$ with 2000 samples\", fontsize=20)\n",
    "plt.hist(alpha_samples,bins=20);\n",
    "plt.ylabel('Probability Density')"
   ]
  },
  {
   "cell_type": "markdown",
   "metadata": {},
   "source": [
    "We can observe the change in alpha with each sample in the plot below:"
   ]
  },
  {
   "cell_type": "code",
   "execution_count": 15,
   "metadata": {},
   "outputs": [
    {
     "data": {
      "text/plain": [
       "(0, 1998)"
      ]
     },
     "execution_count": 15,
     "metadata": {},
     "output_type": "execute_result"
    },
    {
     "data": {
      "image/png": "[encoded data removed]",
      "text/plain": [
       "<Figure size 432x288 with 1 Axes>"
      ]
     },
     "metadata": {
      "needs_background": "light"
     },
     "output_type": "display_data"
    }
   ],
   "source": [
    "ax1= plt.plot(alpha_samples, color = 'red')\n",
    "plt.xlim([0, 1998])"
   ]
  },
  {
   "cell_type": "markdown",
   "metadata": {},
   "source": [
    "We can observe the change in beta with each sample in the plot below:"
   ]
  },
  {
   "cell_type": "code",
   "execution_count": 16,
   "metadata": {},
   "outputs": [
    {
     "data": {
      "text/plain": [
       "Text(0, 0.5, 'Probability Density')"
      ]
     },
     "execution_count": 16,
     "metadata": {},
     "output_type": "execute_result"
    },
    {
     "data": {
      "image/png": "[encoded data removed]",
      "text/plain": [
       "<Figure size 1440x360 with 1 Axes>"
      ]
     },
     "metadata": {
      "needs_background": "light"
     },
     "output_type": "display_data"
    }
   ],
   "source": [
    "plt.figure(figsize=(20, 5))\n",
    "plt.title(r\"Distribution of $\\beta$ with 2000 samples\", fontsize=20)\n",
    "plt.hist(beta_samples,bins=30);\n",
    "plt.ylabel('Probability Density')"
   ]
  },
  {
   "cell_type": "code",
   "execution_count": 17,
   "metadata": {},
   "outputs": [
    {
     "data": {
      "text/plain": [
       "(0, 1998)"
      ]
     },
     "execution_count": 17,
     "metadata": {},
     "output_type": "execute_result"
    },
    {
     "data": {
      "image/png": "[encoded data removed]",
      "text/plain": [
       "<Figure size 432x288 with 1 Axes>"
      ]
     },
     "metadata": {
      "needs_background": "light"
     },
     "output_type": "display_data"
    }
   ],
   "source": [
    "ax1= plt.plot(beta_samples, color = 'red')\n",
    "# plt.ylim([-0.05, 0])\n",
    "plt.xlim([0, 1998])\n"
   ]
  },
  {
   "cell_type": "markdown",
   "metadata": {},
   "source": [
    "Now, as the final step, let us try to plot the probability distribution of price that we have obtained. \n"
   ]
  },
  {
   "cell_type": "markdown",
   "metadata": {},
   "source": [
    "The code cell below does the following things:\n",
    "- create an array with values evenly spaced between 288-141, the maximum and minimum price of the stock in the given date range\n",
    "- calculate the mean of the last 200 values of alpha\n",
    "- calculate the mean of the last 200 values of beta\n",
    "- Finally, use the above values of alpha and beta to call the sigmoid function to get the final probability distribution."
   ]
  },
  {
   "cell_type": "code",
   "execution_count": 18,
   "metadata": {},
   "outputs": [],
   "source": [
    "# Price values for probability prediction\n",
    "# Returns evenly spaced numbers between min price and max price\n",
    "price_estimate = np.linspace(price.min(), price.max())\n",
    "alpha_estimate = last_200_alpha_samples.mean()\n",
    "beta_estimate = last_200_beta_samples.mean()\n",
    "\n",
    "# Probability of buying at each price using mean values of alpha and beta\n",
    "prob_buy = sigmoid(price_estimate, alpha_estimate, beta_estimate)"
   ]
  },
  {
   "cell_type": "markdown",
   "metadata": {},
   "source": [
    "As we see below, the variable prob_buy contains the probability of buying a stock for each integer price in the range 140$ - 280$"
   ]
  },
  {
   "cell_type": "code",
   "execution_count": 19,
   "metadata": {},
   "outputs": [
    {
     "data": {
      "text/plain": [
       "array([0.05779842, 0.06394586, 0.07069807, 0.07810378, 0.08621328,\n",
       "       0.09507795, 0.10474962, 0.11527979, 0.12671869, 0.13911417,\n",
       "       0.15251041, 0.16694649, 0.18245486, 0.19905962, 0.21677486,\n",
       "       0.23560289, 0.25553271, 0.2765385 , 0.2985785 , 0.32159425,\n",
       "       0.34551024, 0.37023414, 0.39565771, 0.42165819, 0.44810039,\n",
       "       0.47483936, 0.50172338, 0.52859744, 0.55530675, 0.58170029,\n",
       "       0.60763417, 0.63297468, 0.65760081, 0.68140627, 0.70430088,\n",
       "       0.7262113 , 0.74708124, 0.76687103, 0.78555682, 0.8031294 ,\n",
       "       0.8195927 , 0.83496216, 0.84926306, 0.86252879, 0.87479917,\n",
       "       0.88611892, 0.89653627, 0.90610166, 0.9148667 , 0.92288318])"
      ]
     },
     "execution_count": 19,
     "metadata": {},
     "output_type": "execute_result"
    }
   ],
   "source": [
    "prob_buy"
   ]
  },
  {
   "cell_type": "markdown",
   "metadata": {},
   "source": [
    "Now that we have our probability distribution, lets plot it using a scatter plot and observe."
   ]
  },
  {
   "cell_type": "code",
   "execution_count": 20,
   "metadata": {},
   "outputs": [
    {
     "data": {
      "image/png": "[encoded data removed]",
      "text/plain": [
       "<Figure size 1440x720 with 1 Axes>"
      ]
     },
     "metadata": {
      "needs_background": "light"
     },
     "output_type": "display_data"
    }
   ],
   "source": [
    "plt.figure(figsize=(20, 10))\n",
    "plt.title('Probability Distribution of buying a stock wrt price',  fontsize=20);\n",
    "plt.plot(price_estimate, prob_buy, label=\"Likelihood of buying with respect to price\")\n",
    "plt.scatter(price, indicators,s= 100, alpha=0.01) #s indicates the thickness of a point and alpha controls the opaqueness of the points \n",
    "plt.legend([\"Likelihood of buying with respect to price\"], fontsize=20)\n",
    "plt.ylabel('Probability', fontsize=20)\n",
    "plt.xlabel('Price', fontsize=20);"
   ]
  },
  {
   "cell_type": "markdown",
   "metadata": {},
   "source": [
    "The plot above is a probability distribution of the stock price of Tesla using MCMC!\n",
    "Let us now get the price below which there is an x % probability of buying a stock:"
   ]
  },
  {
   "cell_type": "code",
   "execution_count": 21,
   "metadata": {},
   "outputs": [
    {
     "name": "stdout",
     "output_type": "stream",
     "text": [
      "The probability of buying is 25% at 185.3877551020408\n",
      "The probability of buying is 50% at 213.75510204081633\n",
      "The probability of buying is 75% at 244.9591836734694\n"
     ]
    }
   ],
   "source": [
    "prob_25 = (price_estimate[np.where(prob_buy > 0.25)][0])\n",
    "prob_50 = (price_estimate[np.where(prob_buy > 0.5)][0])\n",
    "prob_75 = (price_estimate[np.where(prob_buy > 0.75)][0])\n",
    "\n",
    "print(\"The probability of buying is 25% at \" + str(prob_25))\n",
    "print(\"The probability of buying is 50% at \" + str(prob_50))\n",
    "print(\"The probability of buying is 75% at \" + str(prob_75))"
   ]
  },
  {
   "cell_type": "markdown",
   "metadata": {},
   "source": [
    "We can even do the inverse of this by getting what is the probability that you can purchase a stock at the given price"
   ]
  },
  {
   "cell_type": "code",
   "execution_count": 22,
   "metadata": {},
   "outputs": [
    {
     "name": "stdout",
     "output_type": "stream",
     "text": [
      "The probability of buying a Tesla stock with 150$ is 8.227173925918136%\n",
      "The probability of buying a Tesla stock with 200$ is 37.40331097655774%\n",
      "The probability of buying a Tesla stock with 250$ is 79.9306781013528%\n"
     ]
    }
   ],
   "source": [
    "price_150 = sigmoid(150,alpha_estimate, beta_estimate)\n",
    "print(\"The probability of buying a Tesla stock with 150$ is \" + str(100*price_150) + \"%\")\n",
    "price_150 = sigmoid(200,alpha_estimate, beta_estimate)\n",
    "print(\"The probability of buying a Tesla stock with 200$ is \" + str(100*price_150) + \"%\")\n",
    "price_150 = sigmoid(250,alpha_estimate, beta_estimate)\n",
    "print(\"The probability of buying a Tesla stock with 250$ is \" + str(100*price_150) + \"%\")\n"
   ]
  },
  {
   "cell_type": "markdown",
   "metadata": {},
   "source": [
    "#### That is the end of this tutorial. Hope you found it useful and are now clear on the working of one of statistics most advanced concepts, the Markov Chain Monte Carlo method. "
   ]
  }
 ],
 "metadata": {
  "kernelspec": {
   "display_name": "Python 3",
   "language": "python",
   "name": "python3"
  },
  "language_info": {
   "codemirror_mode": {
    "name": "ipython",
    "version": 3
   },
   "file_extension": ".py",
   "mimetype": "text/x-python",
   "name": "python",
   "nbconvert_exporter": "python",
   "pygments_lexer": "ipython3",
   "version": "3.6.8"
  }
 },
 "nbformat": 4,
 "nbformat_minor": 2
}
